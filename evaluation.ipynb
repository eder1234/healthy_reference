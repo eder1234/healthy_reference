{
 "cells": [
  {
   "cell_type": "code",
   "execution_count": 1,
   "id": "d921e1c9",
   "metadata": {},
   "outputs": [],
   "source": [
    "import pathlib\n",
    "import functions\n",
    "import pickle"
   ]
  },
  {
   "cell_type": "code",
   "execution_count": 2,
   "id": "850dc3f6",
   "metadata": {},
   "outputs": [],
   "source": [
    "# Get the csv's filenames in the folder \n",
    "dataset_path = \"/home/rodriguez/Documents/FaceMoCap_ML_Project/Data FaceMoCap/Sujets Pathologiques/Madame L/20140710/\"\n",
    "ref_csv =  sorted(str(p) for p in pathlib.Path(dataset_path).glob(\"*.csv\"))"
   ]
  },
  {
   "cell_type": "code",
   "execution_count": 5,
   "id": "1cb662b6",
   "metadata": {},
   "outputs": [
    {
     "name": "stdout",
     "output_type": "stream",
     "text": [
      "/home/rodriguez/Documents/FaceMoCap_ML_Project/Data FaceMoCap/Sujets Pathologiques/Madame L/20140710/PatientL02_M1.csv\n",
      "/home/rodriguez/Documents/FaceMoCap_ML_Project/Data FaceMoCap/Sujets Pathologiques/Madame L/20140710/PatientL02_M2.csv\n",
      "/home/rodriguez/Documents/FaceMoCap_ML_Project/Data FaceMoCap/Sujets Pathologiques/Madame L/20140710/PatientL02_M3.csv\n",
      "/home/rodriguez/Documents/FaceMoCap_ML_Project/Data FaceMoCap/Sujets Pathologiques/Madame L/20140710/PatientL02_M4.csv\n",
      "/home/rodriguez/Documents/FaceMoCap_ML_Project/Data FaceMoCap/Sujets Pathologiques/Madame L/20140710/PatientL02_M5.csv\n"
     ]
    }
   ],
   "source": [
    "for elem in ref_csv:\n",
    "    print(elem)"
   ]
  },
  {
   "cell_type": "code",
   "execution_count": 6,
   "id": "4e4264b9",
   "metadata": {},
   "outputs": [],
   "source": [
    "# The csv's dataframes are organized here\n",
    "list_ref = functions.create_list_ref(ref_csv)\n",
    "list_dataset = functions.create_list_dataset(list_ref)\n",
    "\n",
    "# The interpolation (Spline) and cleaning process are carried out here\n",
    "list_ds_interpolated = functions.interpolate_list(list_dataset)\n",
    "# The duration of each sample is set to 500 frames\n",
    "list_ds_int_fix_dataset = functions.create_fixed_duration_dataset(list_ds_interpolated, fixed_duration=500)\n",
    "# This line carries out the reference frame change transformation\n",
    "list_ds_int_fix_dental = functions.dental_frame(list_ds_int_fix_dataset)\n",
    "# If the displacement is selected as the feature of interest, use this function\n",
    "list_ds_int_fix_dental_disp = functions.displacement_list(list_ds_int_fix_dental)"
   ]
  },
  {
   "cell_type": "code",
   "execution_count": 7,
   "id": "79c0994f",
   "metadata": {},
   "outputs": [],
   "source": [
    "with open('Mme_L-10072014.pkl', 'wb') as file:\n",
    "    pickle.dump(list_ds_int_fix_dental_disp, file)"
   ]
  },
  {
   "cell_type": "code",
   "execution_count": 10,
   "id": "69816e39",
   "metadata": {},
   "outputs": [
    {
     "name": "stdout",
     "output_type": "stream",
     "text": [
      "500\n",
      "500\n",
      "500\n",
      "500\n",
      "500\n"
     ]
    }
   ],
   "source": [
    "for list_M in list_ds_int_fix_dental_disp:\n",
    "    for np_sample in list_M:\n",
    "        print(len(np_sample))"
   ]
  },
  {
   "cell_type": "code",
   "execution_count": null,
   "id": "96f561d6",
   "metadata": {},
   "outputs": [],
   "source": []
  }
 ],
 "metadata": {
  "kernelspec": {
   "display_name": "Python 3 (ipykernel)",
   "language": "python",
   "name": "python3"
  },
  "language_info": {
   "codemirror_mode": {
    "name": "ipython",
    "version": 3
   },
   "file_extension": ".py",
   "mimetype": "text/x-python",
   "name": "python",
   "nbconvert_exporter": "python",
   "pygments_lexer": "ipython3",
   "version": "3.9.12"
  }
 },
 "nbformat": 4,
 "nbformat_minor": 5
}
