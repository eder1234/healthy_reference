{
 "cells": [
  {
   "cell_type": "markdown",
   "id": "4b9fd4ce",
   "metadata": {},
   "source": [
    "# This notebook generates a pickle that contains the transformed dataset"
   ]
  },
  {
   "cell_type": "code",
   "execution_count": 3,
   "id": "80cf1f17",
   "metadata": {},
   "outputs": [],
   "source": [
    "import pathlib\n",
    "import functions\n",
    "import pickle"
   ]
  },
  {
   "cell_type": "code",
   "execution_count": null,
   "id": "9d1be8c9",
   "metadata": {},
   "outputs": [],
   "source": [
    "# Get the csv's filenames in the folder \n",
    "dataset_path = \"/home/rodriguez/Documents/FaceMoCap_ML_Project/Data FaceMoCap/Sujets Sains\"\n",
    "ref_csv =  sorted(str(p) for p in pathlib.Path(dataset_path).glob(\"*.csv\"))"
   ]
  },
  {
   "cell_type": "code",
   "execution_count": null,
   "id": "0049ce10",
   "metadata": {},
   "outputs": [],
   "source": [
    "# The csv's dataframes are organized here\n",
    "list_ref = functions.create_list_ref(ref_csv)\n",
    "list_dataset = functions.create_list_dataset(list_ref)\n",
    "\n",
    "# The interpolation (Spline) and cleaning process are carried out here\n",
    "list_ds_interpolated = functions.interpolate_list(list_dataset)\n",
    "# The duration of each sample is set to 500 frames\n",
    "list_ds_int_fix_dataset = functions.create_fixed_duration_dataset(list_ds_interpolated, fixed_duration=500)\n",
    "# This line carries out the reference frame change transformation\n",
    "list_ds_int_fix_dental = functions.dental_frame(list_ds_int_fix_dataset)\n",
    "# If the displacement is selected as the feature of interest, use this function\n",
    "list_ds_int_fix_dental_disp = functions.displacement_list(list_ds_int_fix_dental)"
   ]
  },
  {
   "cell_type": "code",
   "execution_count": null,
   "id": "5c7ac71c",
   "metadata": {},
   "outputs": [],
   "source": [
    "# TODO\n",
    "# add the normalized_displacement function"
   ]
  },
  {
   "cell_type": "markdown",
   "id": "3035b5f8",
   "metadata": {},
   "source": [
    "Run the next line only if you want to generate the dataset object for the first time"
   ]
  },
  {
   "cell_type": "code",
   "execution_count": null,
   "id": "21b6ee54",
   "metadata": {},
   "outputs": [],
   "source": [
    "# Generate the object that contains the selected healthy reference dataset\n",
    "with open('list_ds_int_fix_dental_disp.pkl', 'wb') as file:\n",
    "    pickle.dump(list_ds_int_fix_dental_disp, file)"
   ]
  }
 ],
 "metadata": {
  "kernelspec": {
   "display_name": "Python 3 (ipykernel)",
   "language": "python",
   "name": "python3"
  },
  "language_info": {
   "codemirror_mode": {
    "name": "ipython",
    "version": 3
   },
   "file_extension": ".py",
   "mimetype": "text/x-python",
   "name": "python",
   "nbconvert_exporter": "python",
   "pygments_lexer": "ipython3",
   "version": "3.9.12"
  }
 },
 "nbformat": 4,
 "nbformat_minor": 5
}
