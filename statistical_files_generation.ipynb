{
 "cells": [
  {
   "cell_type": "markdown",
   "id": "695eb0c7",
   "metadata": {},
   "source": [
    "# This notebook generates the statistical csv files"
   ]
  },
  {
   "cell_type": "code",
   "execution_count": null,
   "id": "0b25c255",
   "metadata": {},
   "outputs": [],
   "source": [
    "import pickle\n",
    "import functions\n",
    "import numpy as np"
   ]
  },
  {
   "cell_type": "code",
   "execution_count": null,
   "id": "40f1d32c",
   "metadata": {},
   "outputs": [],
   "source": [
    "# Load the processed dataset object object\n",
    "with open('list_ds_int_fix_dental_disp.pkl', 'rb') as file:\n",
    "    list_ds_int_fix_dental_disp = pickle.load(file)\n",
    "\n",
    "# Compute the mean and the std. dev. for each frame    \n",
    "list_means_int_fix_disp = functions.compute_mean(list_ds_int_fix_dental_disp)\n",
    "list_std_int_fix_disp = functions.compute_std(list_ds_int_fix_dental_disp)\n"
   ]
  },
  {
   "cell_type": "markdown",
   "id": "5d752ba8",
   "metadata": {},
   "source": [
    "Run this line once to generate the statistical files"
   ]
  },
  {
   "cell_type": "code",
   "execution_count": null,
   "id": "4a4b816b",
   "metadata": {},
   "outputs": [],
   "source": [
    "\n",
    "# Generate the csv files for each frame and movement\n",
    "for i in range(5):\n",
    "    filename_mean = \"mean_M\" + str(i+1) + \".csv\" \n",
    "    filename_std = \"std_M\" + str(i+1) + \".csv\" \n",
    "    np.savetxt(filename_mean, list_means_int_fix_disp[i], delimiter=\",\")\n",
    "    np.savetxt(filename_std, list_std_int_fix_disp[i], delimiter=\",\") "
   ]
  }
 ],
 "metadata": {
  "kernelspec": {
   "display_name": "Python 3 (ipykernel)",
   "language": "python",
   "name": "python3"
  },
  "language_info": {
   "codemirror_mode": {
    "name": "ipython",
    "version": 3
   },
   "file_extension": ".py",
   "mimetype": "text/x-python",
   "name": "python",
   "nbconvert_exporter": "python",
   "pygments_lexer": "ipython3",
   "version": "3.9.12"
  }
 },
 "nbformat": 4,
 "nbformat_minor": 5
}
